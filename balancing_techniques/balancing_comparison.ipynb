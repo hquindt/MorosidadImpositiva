{
 "cells": [
  {
   "cell_type": "markdown",
   "metadata": {},
   "source": [
    "## Comparativa de modelos de ML sobre los datos sin balanceo y balanceados\n",
    "\n",
    "\n",
    "Se aplicaron los metodos de balanceo:\n",
    "- SMOTE\n",
    "- ADASYN\n",
    "- TOMEK LINKS"
   ]
  },
  {
   "cell_type": "markdown",
   "metadata": {},
   "source": [
    "### 1. **Evaluación de métricas específicas para el desequilibrio de clases**\n",
    "En un conjunto de datos desbalanceado, las métricas de evaluación tradicionales como el **accuracy** (exactitud) pueden ser engañosas, ya que un modelo podría obtener una alta precisión simplemente prediciendo la clase mayoritaria en todos los casos. En su lugar, es importante utilizar métricas que evalúen el rendimiento de las clases minoritarias y mayoritarias por separado.\n",
    "\n",
    "#### Métricas a considerar:\n",
    "- **Precision**: Qué porcentaje de las predicciones positivas son realmente positivas. Útil para evaluar la tasa de falsos positivos.\n",
    "- **Recall (Sensibilidad)**: Qué porcentaje de las verdaderas instancias positivas fueron correctamente identificadas. Útil para evaluar los falsos negativos.\n",
    "- **F1-Score**: La media armónica entre Precision y Recall. Es especialmente útil en problemas desbalanceados porque equilibra los falsos positivos y los falsos negativos.\n",
    "- **Matriz de confusión**: Para visualizar cómo se comporta el modelo en cada clase (verdaderos positivos, verdaderos negativos, falsos positivos, falsos negativos).\n",
    "- **AUC-ROC (Área bajo la curva ROC)**: Mide la capacidad del modelo para distinguir entre clases. Una curva ROC cerca de 1 indica un buen desempeño del modelo."
   ]
  },
  {
   "cell_type": "markdown",
   "metadata": {},
   "source": [
    "### Recuperamos los datos guardados en DataSet\n",
    "\n",
    "Estos datos son guardados en archivos para poder cargarlos a posterior y no tener que volver a balancear los datos por los distintos metodos debido al tiempo que consume"
   ]
  },
  {
   "cell_type": "code",
   "execution_count": null,
   "metadata": {},
   "outputs": [
    {
     "name": "stdout",
     "output_type": "stream",
     "text": [
      "Distribución sin BALANCEO: Counter({'MOROSIDAD': 1})\n",
      "Distribución después de SMOTE en y_train_smote: Counter({'MOROSIDAD': 1})\n",
      "Distribución después de ADASYN en y_train_smote: Counter({'MOROSIDAD': 1})\n",
      "Distribución después de TOMEK LINK en y_train_smote: Counter({'MOROSIDAD': 1})\n"
     ]
    }
   ],
   "source": [
    "# Importamos las librerías necesarias\n",
    "import pandas as pd\n",
    "from collections import Counter\n",
    "\n",
    "# Cargar los datos no originales no balanceados\n",
    "X_test = pd.read_csv('D:\\DESARROLLO DE SOFTWARE\\CAPACITACION\\MAESTRIA EN CIENCIAS DE DATOS\\TESIS DE MAESTRIA\\Entregas\\Entrega 9\\DataSet\\DATASET MEJORADOS CON I.C\\TEST\\X_test.csv')\n",
    "y_test = pd.read_csv('D:\\DESARROLLO DE SOFTWARE\\CAPACITACION\\MAESTRIA EN CIENCIAS DE DATOS\\TESIS DE MAESTRIA\\Entregas\\Entrega 9\\DataSet\\DATASET MEJORADOS CON I.C\\TEST\\y_test.csv')\n",
    "\n",
    "X_train = pd.read_csv('D:\\DESARROLLO DE SOFTWARE\\CAPACITACION\\MAESTRIA EN CIENCIAS DE DATOS\\TESIS DE MAESTRIA\\Entregas\\Entrega 9\\DataSet\\DATASET MEJORADOS CON I.C\\TRAIN\\X_train.csv')\n",
    "y_train = pd.read_csv('D:\\DESARROLLO DE SOFTWARE\\CAPACITACION\\MAESTRIA EN CIENCIAS DE DATOS\\TESIS DE MAESTRIA\\Entregas\\Entrega 9\\DataSet\\DATASET MEJORADOS CON I.C\\TRAIN\\y_train.csv')\n",
    "\n",
    "# Cargar los datos balanceados SMOTE\n",
    "X_train_smote = pd.read_csv('D:\\DESARROLLO DE SOFTWARE\\CAPACITACION\\MAESTRIA EN CIENCIAS DE DATOS\\TESIS DE MAESTRIA\\Entregas\\Entrega 9\\DataSet\\DATASET MEJORADOS CON I.C\\SMOTE\\X_train_smote.csv')\n",
    "y_train_smote = pd.read_csv('D:\\DESARROLLO DE SOFTWARE\\CAPACITACION\\MAESTRIA EN CIENCIAS DE DATOS\\TESIS DE MAESTRIA\\Entregas\\Entrega 9\\DataSet\\DATASET MEJORADOS CON I.C\\SMOTE\\y_train_smote.csv')\n",
    "\n",
    "# Cargar los datos balanceados ADASYN\n",
    "X_train_adasyn = pd.read_csv('D:\\DESARROLLO DE SOFTWARE\\CAPACITACION\\MAESTRIA EN CIENCIAS DE DATOS\\TESIS DE MAESTRIA\\Entregas\\Entrega 9\\DataSet\\DATASET MEJORADOS CON I.C\\ADASYN\\X_train_adasyn.csv')\n",
    "y_train_adasyn = pd.read_csv('D:\\DESARROLLO DE SOFTWARE\\CAPACITACION\\MAESTRIA EN CIENCIAS DE DATOS\\TESIS DE MAESTRIA\\Entregas\\Entrega 9\\DataSet\\DATASET MEJORADOS CON I.C\\ADASYN\\y_train_adasyn.csv')\n",
    "\n",
    "# Cargar los datos balanceados TOMEK LINK\n",
    "X_train_tomek = pd.read_csv('D:\\DESARROLLO DE SOFTWARE\\CAPACITACION\\MAESTRIA EN CIENCIAS DE DATOS\\TESIS DE MAESTRIA\\Entregas\\Entrega 9\\DataSet\\DATASET MEJORADOS CON I.C\\TOMEK LINKS\\X_train_tomek.csv')\n",
    "y_train_tomek = pd.read_csv('D:\\DESARROLLO DE SOFTWARE\\CAPACITACION\\MAESTRIA EN CIENCIAS DE DATOS\\TESIS DE MAESTRIA\\Entregas\\Entrega 9\\DataSet\\DATASET MEJORADOS CON I.C\\TOMEK LINKS\\y_train_tomek.csv')\n",
    "\n",
    "# Ver la distribución de las clases después de SMOTE\n",
    "print(\"Distribución sin BALANCEO:\", Counter(y_train))\n",
    "print(\"Distribución después de SMOTE en y_train_smote:\", Counter(y_train_smote))\n",
    "print(\"Distribución después de ADASYN en y_train_smote:\", Counter(y_train_adasyn))\n",
    "print(\"Distribución después de TOMEK LINK en y_train_smote:\", Counter(y_train_tomek))\n"
   ]
  },
  {
   "cell_type": "markdown",
   "metadata": {},
   "source": [
    "# Random Forest\n",
    "\n",
    "### Datos Optimizados sin Balanceo"
   ]
  },
  {
   "cell_type": "code",
   "execution_count": 2,
   "metadata": {},
   "outputs": [
    {
     "name": "stderr",
     "output_type": "stream",
     "text": [
      "C:\\Users\\hrqui\\AppData\\Roaming\\Python\\Python310\\site-packages\\sklearn\\base.py:1473: DataConversionWarning: A column-vector y was passed when a 1d array was expected. Please change the shape of y to (n_samples,), for example using ravel().\n",
      "  return fit_method(estimator, *args, **kwargs)\n"
     ]
    },
    {
     "name": "stdout",
     "output_type": "stream",
     "text": [
      "Matriz de confusión:\n",
      "[[936397 184562]\n",
      " [125630 684158]]\n",
      "\n",
      "Reporte de clasificación:\n",
      "              precision    recall  f1-score   support\n",
      "\n",
      "           0       0.88      0.84      0.86   1120959\n",
      "           1       0.79      0.84      0.82    809788\n",
      "\n",
      "    accuracy                           0.84   1930747\n",
      "   macro avg       0.83      0.84      0.84   1930747\n",
      "weighted avg       0.84      0.84      0.84   1930747\n",
      "\n",
      "ROC AUC: 0.93\n",
      "El tiempo total de ejecución fue de 28 minutos y 13.51 segundos.\n"
     ]
    }
   ],
   "source": [
    "# Importamos las librerías necesarias\n",
    "from sklearn.ensemble import RandomForestClassifier\n",
    "from sklearn.metrics import classification_report, confusion_matrix, roc_auc_score\n",
    "import time  # Importamos la librería para medir el tiempo\n",
    "\n",
    "# Medir el tiempo de inicio\n",
    "start_time = time.time()\n",
    "\n",
    "# Entrenar un modelo de Random Forest con los datos balanceados\n",
    "rf_model = RandomForestClassifier(n_estimators=100, random_state=42)\n",
    "rf_model.fit(X_train, y_train)\n",
    "\n",
    "# Hacer predicciones en el conjunto de prueba (sin aplicar SMOTE en los datos de prueba)\n",
    "y_pred = rf_model.predict(X_test)\n",
    "\n",
    "# Evaluar el rendimiento del modelo\n",
    "print(\"Matriz de confusión:\")\n",
    "print(confusion_matrix(y_test, y_pred))\n",
    "\n",
    "print(\"\\nReporte de clasificación:\")\n",
    "print(classification_report(y_test, y_pred))\n",
    "\n",
    "# Calcular el AUC\n",
    "roc_auc = roc_auc_score(y_test, rf_model.predict_proba(X_test)[:, 1])\n",
    "print(f\"ROC AUC: {roc_auc:.2f}\")\n",
    "\n",
    "# Medir el tiempo de finalización y calcular el tiempo transcurrido\n",
    "end_time = time.time()\n",
    "elapsed_time = end_time - start_time\n",
    "\n",
    "# Convertir a minutos y segundos\n",
    "minutes = elapsed_time // 60\n",
    "seconds = elapsed_time % 60\n",
    "\n",
    "print(f\"El tiempo total de ejecución fue de {int(minutes)} minutos y {seconds:.2f} segundos.\")"
   ]
  },
  {
   "cell_type": "markdown",
   "metadata": {},
   "source": [
    "### Datos balanceados con SMOTE"
   ]
  },
  {
   "cell_type": "code",
   "execution_count": 3,
   "metadata": {},
   "outputs": [
    {
     "name": "stderr",
     "output_type": "stream",
     "text": [
      "C:\\Users\\hrqui\\AppData\\Roaming\\Python\\Python310\\site-packages\\sklearn\\base.py:1473: DataConversionWarning: A column-vector y was passed when a 1d array was expected. Please change the shape of y to (n_samples,), for example using ravel().\n",
      "  return fit_method(estimator, *args, **kwargs)\n"
     ]
    },
    {
     "name": "stdout",
     "output_type": "stream",
     "text": [
      "Matriz de confusión:\n",
      "[[930668 190291]\n",
      " [114642 695146]]\n",
      "\n",
      "Reporte de clasificación:\n",
      "              precision    recall  f1-score   support\n",
      "\n",
      "           0       0.89      0.83      0.86   1120959\n",
      "           1       0.79      0.86      0.82    809788\n",
      "\n",
      "    accuracy                           0.84   1930747\n",
      "   macro avg       0.84      0.84      0.84   1930747\n",
      "weighted avg       0.85      0.84      0.84   1930747\n",
      "\n",
      "ROC AUC: 0.93\n",
      "El tiempo total de ejecución fue de 31 minutos y 46.43 segundos.\n"
     ]
    }
   ],
   "source": [
    "from sklearn.ensemble import RandomForestClassifier\n",
    "import time  # Importamos la librería para medir el tiempo\n",
    "\n",
    "# Medir el tiempo de inicio\n",
    "start_time = time.time()\n",
    "\n",
    "# Entrenar un modelo de Random Forest con los datos balanceados\n",
    "rf_model = RandomForestClassifier(n_estimators=100, random_state=42)\n",
    "rf_model.fit(X_train_smote, y_train_smote)\n",
    "\n",
    "# Hacer predicciones en el conjunto de prueba (sin aplicar SMOTE en los datos de prueba)\n",
    "y_pred = rf_model.predict(X_test)\n",
    "\n",
    "# Evaluar el rendimiento del modelo\n",
    "print(\"Matriz de confusión:\")\n",
    "print(confusion_matrix(y_test, y_pred))\n",
    "\n",
    "print(\"\\nReporte de clasificación:\")\n",
    "print(classification_report(y_test, y_pred))\n",
    "\n",
    "# Calcular el AUC\n",
    "roc_auc = roc_auc_score(y_test, rf_model.predict_proba(X_test)[:, 1])\n",
    "print(f\"ROC AUC: {roc_auc:.2f}\")\n",
    "\n",
    "# Medir el tiempo de finalización y calcular el tiempo transcurrido\n",
    "end_time = time.time()\n",
    "elapsed_time = end_time - start_time\n",
    "\n",
    "# Convertir a minutos y segundos\n",
    "minutes = elapsed_time // 60\n",
    "seconds = elapsed_time % 60\n",
    "\n",
    "print(f\"El tiempo total de ejecución fue de {int(minutes)} minutos y {seconds:.2f} segundos.\")"
   ]
  },
  {
   "cell_type": "markdown",
   "metadata": {},
   "source": [
    "### Datos balanceados con ADASYN"
   ]
  },
  {
   "cell_type": "code",
   "execution_count": 4,
   "metadata": {},
   "outputs": [
    {
     "name": "stderr",
     "output_type": "stream",
     "text": [
      "C:\\Users\\hrqui\\AppData\\Roaming\\Python\\Python310\\site-packages\\sklearn\\base.py:1473: DataConversionWarning: A column-vector y was passed when a 1d array was expected. Please change the shape of y to (n_samples,), for example using ravel().\n",
      "  return fit_method(estimator, *args, **kwargs)\n"
     ]
    },
    {
     "name": "stdout",
     "output_type": "stream",
     "text": [
      "Matriz de confusión:\n",
      "[[932166 188793]\n",
      " [113631 696157]]\n",
      "\n",
      "Reporte de clasificación:\n",
      "              precision    recall  f1-score   support\n",
      "\n",
      "           0       0.89      0.83      0.86   1120959\n",
      "           1       0.79      0.86      0.82    809788\n",
      "\n",
      "    accuracy                           0.84   1930747\n",
      "   macro avg       0.84      0.85      0.84   1930747\n",
      "weighted avg       0.85      0.84      0.84   1930747\n",
      "\n",
      "ROC AUC: 0.93\n",
      "El tiempo total de ejecución fue de 29 minutos y 59.37 segundos.\n"
     ]
    }
   ],
   "source": [
    "from sklearn.ensemble import RandomForestClassifier\n",
    "import time  # Importamos la librería para medir el tiempo\n",
    "\n",
    "# Medir el tiempo de inicio\n",
    "start_time = time.time()\n",
    "\n",
    "# Entrenar un modelo de Random Forest con los datos balanceados\n",
    "rf_model = RandomForestClassifier(n_estimators=100, random_state=42)\n",
    "rf_model.fit(X_train_adasyn, y_train_adasyn)\n",
    "\n",
    "# Hacer predicciones en el conjunto de prueba (sin aplicar SMOTE en los datos de prueba)\n",
    "y_pred = rf_model.predict(X_test)\n",
    "\n",
    "# Evaluar el rendimiento del modelo\n",
    "print(\"Matriz de confusión:\")\n",
    "print(confusion_matrix(y_test, y_pred))\n",
    "\n",
    "print(\"\\nReporte de clasificación:\")\n",
    "print(classification_report(y_test, y_pred))\n",
    "\n",
    "# Calcular el AUC\n",
    "roc_auc = roc_auc_score(y_test, rf_model.predict_proba(X_test)[:, 1])\n",
    "print(f\"ROC AUC: {roc_auc:.2f}\")\n",
    "\n",
    "# Medir el tiempo de finalización y calcular el tiempo transcurrido\n",
    "end_time = time.time()\n",
    "elapsed_time = end_time - start_time\n",
    "\n",
    "# Convertir a minutos y segundos\n",
    "minutes = elapsed_time // 60\n",
    "seconds = elapsed_time % 60\n",
    "\n",
    "print(f\"El tiempo total de ejecución fue de {int(minutes)} minutos y {seconds:.2f} segundos.\")"
   ]
  },
  {
   "cell_type": "markdown",
   "metadata": {},
   "source": [
    "### Datos balanceados con TOMEK LINK"
   ]
  },
  {
   "cell_type": "code",
   "execution_count": 5,
   "metadata": {},
   "outputs": [
    {
     "name": "stderr",
     "output_type": "stream",
     "text": [
      "C:\\Users\\hrqui\\AppData\\Roaming\\Python\\Python310\\site-packages\\sklearn\\base.py:1473: DataConversionWarning: A column-vector y was passed when a 1d array was expected. Please change the shape of y to (n_samples,), for example using ravel().\n",
      "  return fit_method(estimator, *args, **kwargs)\n"
     ]
    },
    {
     "name": "stdout",
     "output_type": "stream",
     "text": [
      "Matriz de confusión:\n",
      "[[864630 256329]\n",
      " [ 74873 734915]]\n",
      "\n",
      "Reporte de clasificación:\n",
      "              precision    recall  f1-score   support\n",
      "\n",
      "           0       0.92      0.77      0.84   1120959\n",
      "           1       0.74      0.91      0.82    809788\n",
      "\n",
      "    accuracy                           0.83   1930747\n",
      "   macro avg       0.83      0.84      0.83   1930747\n",
      "weighted avg       0.85      0.83      0.83   1930747\n",
      "\n",
      "ROC AUC: 0.93\n",
      "El tiempo total de ejecución fue de 21 minutos y 55.50 segundos.\n"
     ]
    }
   ],
   "source": [
    "from sklearn.ensemble import RandomForestClassifier\n",
    "import time  # Importamos la librería para medir el tiempo\n",
    "\n",
    "# Medir el tiempo de inicio\n",
    "start_time = time.time()\n",
    "\n",
    "# Entrenar un modelo de Random Forest con los datos balanceados\n",
    "rf_model = RandomForestClassifier(n_estimators=100, random_state=42)\n",
    "rf_model.fit(X_train_tomek, y_train_tomek)\n",
    "\n",
    "# Hacer predicciones en el conjunto de prueba (sin aplicar SMOTE en los datos de prueba)\n",
    "y_pred = rf_model.predict(X_test)\n",
    "\n",
    "# Evaluar el rendimiento del modelo\n",
    "print(\"Matriz de confusión:\")\n",
    "print(confusion_matrix(y_test, y_pred))\n",
    "\n",
    "print(\"\\nReporte de clasificación:\")\n",
    "print(classification_report(y_test, y_pred))\n",
    "\n",
    "# Calcular el AUC\n",
    "roc_auc = roc_auc_score(y_test, rf_model.predict_proba(X_test)[:, 1])\n",
    "print(f\"ROC AUC: {roc_auc:.2f}\")\n",
    "\n",
    "# Medir el tiempo de finalización y calcular el tiempo transcurrido\n",
    "end_time = time.time()\n",
    "elapsed_time = end_time - start_time\n",
    "\n",
    "# Convertir a minutos y segundos\n",
    "minutes = elapsed_time // 60\n",
    "seconds = elapsed_time % 60\n",
    "\n",
    "print(f\"El tiempo total de ejecución fue de {int(minutes)} minutos y {seconds:.2f} segundos.\")"
   ]
  },
  {
   "cell_type": "markdown",
   "metadata": {},
   "source": [
    "# Redes Neuronales\n",
    "\n",
    "### Datos Optimizados sin Balanceo"
   ]
  },
  {
   "cell_type": "code",
   "execution_count": 6,
   "metadata": {},
   "outputs": [
    {
     "name": "stderr",
     "output_type": "stream",
     "text": [
      "C:\\Users\\hrqui\\AppData\\Roaming\\Python\\Python310\\site-packages\\sklearn\\neural_network\\_multilayer_perceptron.py:1105: DataConversionWarning: A column-vector y was passed when a 1d array was expected. Please change the shape of y to (n_samples, ), for example using ravel().\n",
      "  y = column_or_1d(y, warn=True)\n"
     ]
    },
    {
     "name": "stdout",
     "output_type": "stream",
     "text": [
      "Matriz de confusión:\n",
      "[[1120959       0]\n",
      " [ 809788       0]]\n",
      "\n",
      "Reporte de clasificación:\n"
     ]
    },
    {
     "name": "stderr",
     "output_type": "stream",
     "text": [
      "C:\\Users\\hrqui\\AppData\\Roaming\\Python\\Python310\\site-packages\\sklearn\\metrics\\_classification.py:1531: UndefinedMetricWarning: Precision is ill-defined and being set to 0.0 in labels with no predicted samples. Use `zero_division` parameter to control this behavior.\n",
      "  _warn_prf(average, modifier, f\"{metric.capitalize()} is\", len(result))\n",
      "C:\\Users\\hrqui\\AppData\\Roaming\\Python\\Python310\\site-packages\\sklearn\\metrics\\_classification.py:1531: UndefinedMetricWarning: Precision is ill-defined and being set to 0.0 in labels with no predicted samples. Use `zero_division` parameter to control this behavior.\n",
      "  _warn_prf(average, modifier, f\"{metric.capitalize()} is\", len(result))\n",
      "C:\\Users\\hrqui\\AppData\\Roaming\\Python\\Python310\\site-packages\\sklearn\\metrics\\_classification.py:1531: UndefinedMetricWarning: Precision is ill-defined and being set to 0.0 in labels with no predicted samples. Use `zero_division` parameter to control this behavior.\n",
      "  _warn_prf(average, modifier, f\"{metric.capitalize()} is\", len(result))\n"
     ]
    },
    {
     "name": "stdout",
     "output_type": "stream",
     "text": [
      "              precision    recall  f1-score   support\n",
      "\n",
      "           0       0.58      1.00      0.73   1120959\n",
      "           1       0.00      0.00      0.00    809788\n",
      "\n",
      "    accuracy                           0.58   1930747\n",
      "   macro avg       0.29      0.50      0.37   1930747\n",
      "weighted avg       0.34      0.58      0.43   1930747\n",
      "\n",
      "ROC AUC: 0.50\n",
      "El tiempo total de ejecución fue de 20 minutos y 43.39 segundos.\n"
     ]
    }
   ],
   "source": [
    "from sklearn.neural_network import MLPClassifier\n",
    "import time  # Importamos la librería para medir el tiempo\n",
    "\n",
    "# Medir el tiempo de inicio\n",
    "start_time = time.time()\n",
    "\n",
    "# Entrenar el modelo de Redes Neuronales\n",
    "mlp_model = MLPClassifier(max_iter=500, random_state=42)\n",
    "mlp_model.fit(X_train, y_train)\n",
    "\n",
    "# Hacer predicciones en el conjunto de prueba\n",
    "y_pred = mlp_model.predict(X_test)\n",
    "\n",
    "# Evaluar el rendimiento del modelo\n",
    "print(\"Matriz de confusión:\")\n",
    "print(confusion_matrix(y_test, y_pred))\n",
    "\n",
    "print(\"\\nReporte de clasificación:\")\n",
    "print(classification_report(y_test, y_pred))\n",
    "\n",
    "# Calcular el AUC\n",
    "roc_auc = roc_auc_score(y_test, mlp_model.predict_proba(X_test)[:, 1])\n",
    "print(f\"ROC AUC: {roc_auc:.2f}\")\n",
    "\n",
    "# Medir el tiempo de finalización y calcular el tiempo transcurrido\n",
    "end_time = time.time()\n",
    "elapsed_time = end_time - start_time\n",
    "\n",
    "# Convertir a minutos y segundos\n",
    "minutes = elapsed_time // 60\n",
    "seconds = elapsed_time % 60\n",
    "\n",
    "print(f\"El tiempo total de ejecución fue de {int(minutes)} minutos y {seconds:.2f} segundos.\")"
   ]
  },
  {
   "cell_type": "markdown",
   "metadata": {},
   "source": [
    "### Datos balanceados con SMOTE"
   ]
  },
  {
   "cell_type": "code",
   "execution_count": 7,
   "metadata": {},
   "outputs": [
    {
     "name": "stderr",
     "output_type": "stream",
     "text": [
      "C:\\Users\\hrqui\\AppData\\Roaming\\Python\\Python310\\site-packages\\sklearn\\neural_network\\_multilayer_perceptron.py:1105: DataConversionWarning: A column-vector y was passed when a 1d array was expected. Please change the shape of y to (n_samples, ), for example using ravel().\n",
      "  y = column_or_1d(y, warn=True)\n"
     ]
    },
    {
     "name": "stdout",
     "output_type": "stream",
     "text": [
      "Matriz de confusión:\n",
      "[[1120959       0]\n",
      " [ 809788       0]]\n",
      "\n",
      "Reporte de clasificación:\n"
     ]
    },
    {
     "name": "stderr",
     "output_type": "stream",
     "text": [
      "C:\\Users\\hrqui\\AppData\\Roaming\\Python\\Python310\\site-packages\\sklearn\\metrics\\_classification.py:1531: UndefinedMetricWarning: Precision is ill-defined and being set to 0.0 in labels with no predicted samples. Use `zero_division` parameter to control this behavior.\n",
      "  _warn_prf(average, modifier, f\"{metric.capitalize()} is\", len(result))\n",
      "C:\\Users\\hrqui\\AppData\\Roaming\\Python\\Python310\\site-packages\\sklearn\\metrics\\_classification.py:1531: UndefinedMetricWarning: Precision is ill-defined and being set to 0.0 in labels with no predicted samples. Use `zero_division` parameter to control this behavior.\n",
      "  _warn_prf(average, modifier, f\"{metric.capitalize()} is\", len(result))\n",
      "C:\\Users\\hrqui\\AppData\\Roaming\\Python\\Python310\\site-packages\\sklearn\\metrics\\_classification.py:1531: UndefinedMetricWarning: Precision is ill-defined and being set to 0.0 in labels with no predicted samples. Use `zero_division` parameter to control this behavior.\n",
      "  _warn_prf(average, modifier, f\"{metric.capitalize()} is\", len(result))\n"
     ]
    },
    {
     "name": "stdout",
     "output_type": "stream",
     "text": [
      "              precision    recall  f1-score   support\n",
      "\n",
      "           0       0.58      1.00      0.73   1120959\n",
      "           1       0.00      0.00      0.00    809788\n",
      "\n",
      "    accuracy                           0.58   1930747\n",
      "   macro avg       0.29      0.50      0.37   1930747\n",
      "weighted avg       0.34      0.58      0.43   1930747\n",
      "\n",
      "ROC AUC: 0.50\n",
      "El tiempo total de ejecución fue de 22 minutos y 31.71 segundos.\n"
     ]
    }
   ],
   "source": [
    "from sklearn.neural_network import MLPClassifier\n",
    "import time  # Importamos la librería para medir el tiempo\n",
    "\n",
    "# Medir el tiempo de inicio\n",
    "start_time = time.time()\n",
    "\n",
    "# Entrenar el modelo de Redes Neuronales\n",
    "mlp_model = MLPClassifier(max_iter=500, random_state=42)\n",
    "mlp_model.fit(X_train_smote, y_train_smote)\n",
    "\n",
    "# Hacer predicciones en el conjunto de prueba\n",
    "y_pred = mlp_model.predict(X_test)\n",
    "\n",
    "# Evaluar el rendimiento del modelo\n",
    "print(\"Matriz de confusión:\")\n",
    "print(confusion_matrix(y_test, y_pred))\n",
    "\n",
    "print(\"\\nReporte de clasificación:\")\n",
    "print(classification_report(y_test, y_pred))\n",
    "\n",
    "# Calcular el AUC\n",
    "roc_auc = roc_auc_score(y_test, mlp_model.predict_proba(X_test)[:, 1])\n",
    "print(f\"ROC AUC: {roc_auc:.2f}\")\n",
    "\n",
    "# Medir el tiempo de finalización y calcular el tiempo transcurrido\n",
    "end_time = time.time()\n",
    "elapsed_time = end_time - start_time\n",
    "\n",
    "# Convertir a minutos y segundos\n",
    "minutes = elapsed_time // 60\n",
    "seconds = elapsed_time % 60\n",
    "\n",
    "print(f\"El tiempo total de ejecución fue de {int(minutes)} minutos y {seconds:.2f} segundos.\")"
   ]
  },
  {
   "cell_type": "markdown",
   "metadata": {},
   "source": [
    "### Datos balanceados con ADASYN"
   ]
  },
  {
   "cell_type": "code",
   "execution_count": 8,
   "metadata": {},
   "outputs": [
    {
     "name": "stderr",
     "output_type": "stream",
     "text": [
      "C:\\Users\\hrqui\\AppData\\Roaming\\Python\\Python310\\site-packages\\sklearn\\neural_network\\_multilayer_perceptron.py:1105: DataConversionWarning: A column-vector y was passed when a 1d array was expected. Please change the shape of y to (n_samples, ), for example using ravel().\n",
      "  y = column_or_1d(y, warn=True)\n"
     ]
    },
    {
     "name": "stdout",
     "output_type": "stream",
     "text": [
      "Matriz de confusión:\n",
      "[[1120959       0]\n",
      " [ 809788       0]]\n",
      "\n",
      "Reporte de clasificación:\n"
     ]
    },
    {
     "name": "stderr",
     "output_type": "stream",
     "text": [
      "C:\\Users\\hrqui\\AppData\\Roaming\\Python\\Python310\\site-packages\\sklearn\\metrics\\_classification.py:1531: UndefinedMetricWarning: Precision is ill-defined and being set to 0.0 in labels with no predicted samples. Use `zero_division` parameter to control this behavior.\n",
      "  _warn_prf(average, modifier, f\"{metric.capitalize()} is\", len(result))\n",
      "C:\\Users\\hrqui\\AppData\\Roaming\\Python\\Python310\\site-packages\\sklearn\\metrics\\_classification.py:1531: UndefinedMetricWarning: Precision is ill-defined and being set to 0.0 in labels with no predicted samples. Use `zero_division` parameter to control this behavior.\n",
      "  _warn_prf(average, modifier, f\"{metric.capitalize()} is\", len(result))\n",
      "C:\\Users\\hrqui\\AppData\\Roaming\\Python\\Python310\\site-packages\\sklearn\\metrics\\_classification.py:1531: UndefinedMetricWarning: Precision is ill-defined and being set to 0.0 in labels with no predicted samples. Use `zero_division` parameter to control this behavior.\n",
      "  _warn_prf(average, modifier, f\"{metric.capitalize()} is\", len(result))\n"
     ]
    },
    {
     "name": "stdout",
     "output_type": "stream",
     "text": [
      "              precision    recall  f1-score   support\n",
      "\n",
      "           0       0.58      1.00      0.73   1120959\n",
      "           1       0.00      0.00      0.00    809788\n",
      "\n",
      "    accuracy                           0.58   1930747\n",
      "   macro avg       0.29      0.50      0.37   1930747\n",
      "weighted avg       0.34      0.58      0.43   1930747\n",
      "\n",
      "ROC AUC: 0.50\n",
      "El tiempo total de ejecución fue de 18 minutos y 10.42 segundos.\n"
     ]
    }
   ],
   "source": [
    "from sklearn.neural_network import MLPClassifier\n",
    "import time  # Importamos la librería para medir el tiempo\n",
    "\n",
    "# Medir el tiempo de inicio\n",
    "start_time = time.time()\n",
    "\n",
    "# Entrenar el modelo de Redes Neuronales\n",
    "mlp_model = MLPClassifier(max_iter=500, random_state=42)\n",
    "mlp_model.fit(X_train_adasyn, y_train_adasyn)\n",
    "\n",
    "# Hacer predicciones en el conjunto de prueba\n",
    "y_pred = mlp_model.predict(X_test)\n",
    "\n",
    "# Evaluar el rendimiento del modelo\n",
    "print(\"Matriz de confusión:\")\n",
    "print(confusion_matrix(y_test, y_pred))\n",
    "\n",
    "print(\"\\nReporte de clasificación:\")\n",
    "print(classification_report(y_test, y_pred))\n",
    "\n",
    "# Calcular el AUC\n",
    "roc_auc = roc_auc_score(y_test, mlp_model.predict_proba(X_test)[:, 1])\n",
    "print(f\"ROC AUC: {roc_auc:.2f}\")\n",
    "\n",
    "# Medir el tiempo de finalización y calcular el tiempo transcurrido\n",
    "end_time = time.time()\n",
    "elapsed_time = end_time - start_time\n",
    "\n",
    "# Convertir a minutos y segundos\n",
    "minutes = elapsed_time // 60\n",
    "seconds = elapsed_time % 60\n",
    "\n",
    "print(f\"El tiempo total de ejecución fue de {int(minutes)} minutos y {seconds:.2f} segundos.\")"
   ]
  },
  {
   "cell_type": "markdown",
   "metadata": {},
   "source": [
    "### Datos balanceados con TOMEK LINK"
   ]
  },
  {
   "cell_type": "code",
   "execution_count": 9,
   "metadata": {},
   "outputs": [
    {
     "name": "stderr",
     "output_type": "stream",
     "text": [
      "C:\\Users\\hrqui\\AppData\\Roaming\\Python\\Python310\\site-packages\\sklearn\\neural_network\\_multilayer_perceptron.py:1105: DataConversionWarning: A column-vector y was passed when a 1d array was expected. Please change the shape of y to (n_samples, ), for example using ravel().\n",
      "  y = column_or_1d(y, warn=True)\n"
     ]
    },
    {
     "name": "stdout",
     "output_type": "stream",
     "text": [
      "Matriz de confusión:\n",
      "[[1120959       0]\n",
      " [ 809788       0]]\n",
      "\n",
      "Reporte de clasificación:\n"
     ]
    },
    {
     "name": "stderr",
     "output_type": "stream",
     "text": [
      "C:\\Users\\hrqui\\AppData\\Roaming\\Python\\Python310\\site-packages\\sklearn\\metrics\\_classification.py:1531: UndefinedMetricWarning: Precision is ill-defined and being set to 0.0 in labels with no predicted samples. Use `zero_division` parameter to control this behavior.\n",
      "  _warn_prf(average, modifier, f\"{metric.capitalize()} is\", len(result))\n",
      "C:\\Users\\hrqui\\AppData\\Roaming\\Python\\Python310\\site-packages\\sklearn\\metrics\\_classification.py:1531: UndefinedMetricWarning: Precision is ill-defined and being set to 0.0 in labels with no predicted samples. Use `zero_division` parameter to control this behavior.\n",
      "  _warn_prf(average, modifier, f\"{metric.capitalize()} is\", len(result))\n",
      "C:\\Users\\hrqui\\AppData\\Roaming\\Python\\Python310\\site-packages\\sklearn\\metrics\\_classification.py:1531: UndefinedMetricWarning: Precision is ill-defined and being set to 0.0 in labels with no predicted samples. Use `zero_division` parameter to control this behavior.\n",
      "  _warn_prf(average, modifier, f\"{metric.capitalize()} is\", len(result))\n"
     ]
    },
    {
     "name": "stdout",
     "output_type": "stream",
     "text": [
      "              precision    recall  f1-score   support\n",
      "\n",
      "           0       0.58      1.00      0.73   1120959\n",
      "           1       0.00      0.00      0.00    809788\n",
      "\n",
      "    accuracy                           0.58   1930747\n",
      "   macro avg       0.29      0.50      0.37   1930747\n",
      "weighted avg       0.34      0.58      0.43   1930747\n",
      "\n",
      "ROC AUC: 0.50\n",
      "El tiempo total de ejecución fue de 21 minutos y 21.44 segundos.\n"
     ]
    }
   ],
   "source": [
    "from sklearn.neural_network import MLPClassifier\n",
    "import time  # Importamos la librería para medir el tiempo\n",
    "\n",
    "# Medir el tiempo de inicio\n",
    "start_time = time.time()\n",
    "\n",
    "# Entrenar el modelo de Redes Neuronales\n",
    "mlp_model = MLPClassifier(max_iter=500, random_state=42)\n",
    "mlp_model.fit(X_train_tomek, y_train_tomek)\n",
    "\n",
    "# Hacer predicciones en el conjunto de prueba\n",
    "y_pred = mlp_model.predict(X_test)\n",
    "\n",
    "# Evaluar el rendimiento del modelo\n",
    "print(\"Matriz de confusión:\")\n",
    "print(confusion_matrix(y_test, y_pred))\n",
    "\n",
    "print(\"\\nReporte de clasificación:\")\n",
    "print(classification_report(y_test, y_pred))\n",
    "\n",
    "# Calcular el AUC\n",
    "roc_auc = roc_auc_score(y_test, mlp_model.predict_proba(X_test)[:, 1])\n",
    "print(f\"ROC AUC: {roc_auc:.2f}\")\n",
    "\n",
    "# Medir el tiempo de finalización y calcular el tiempo transcurrido\n",
    "end_time = time.time()\n",
    "elapsed_time = end_time - start_time\n",
    "\n",
    "# Convertir a minutos y segundos\n",
    "minutes = elapsed_time // 60\n",
    "seconds = elapsed_time % 60\n",
    "\n",
    "print(f\"El tiempo total de ejecución fue de {int(minutes)} minutos y {seconds:.2f} segundos.\")"
   ]
  },
  {
   "cell_type": "markdown",
   "metadata": {},
   "source": [
    "# XGBoost\n",
    "\n",
    "### Datos no balanceados"
   ]
  },
  {
   "cell_type": "code",
   "execution_count": 10,
   "metadata": {},
   "outputs": [
    {
     "name": "stderr",
     "output_type": "stream",
     "text": [
      "C:\\Users\\hrqui\\AppData\\Roaming\\Python\\Python310\\site-packages\\xgboost\\core.py:158: UserWarning: [10:19:08] WARNING: C:\\buildkite-agent\\builds\\buildkite-windows-cpu-autoscaling-group-i-0015a694724fa8361-1\\xgboost\\xgboost-ci-windows\\src\\learner.cc:740: \n",
      "Parameters: { \"use_label_encoder\" } are not used.\n",
      "\n",
      "  warnings.warn(smsg, UserWarning)\n"
     ]
    },
    {
     "name": "stdout",
     "output_type": "stream",
     "text": [
      "Matriz de confusión:\n",
      "[[895102 225857]\n",
      " [138594 671194]]\n",
      "\n",
      "Reporte de clasificación:\n",
      "              precision    recall  f1-score   support\n",
      "\n",
      "           0       0.87      0.80      0.83   1120959\n",
      "           1       0.75      0.83      0.79    809788\n",
      "\n",
      "    accuracy                           0.81   1930747\n",
      "   macro avg       0.81      0.81      0.81   1930747\n",
      "weighted avg       0.82      0.81      0.81   1930747\n",
      "\n",
      "ROC AUC: 0.91\n",
      "El tiempo total de ejecución fue de 0 minutos y 23.99 segundos.\n"
     ]
    }
   ],
   "source": [
    "from xgboost import XGBClassifier\n",
    "import time  # Importamos la librería para medir el tiempo\n",
    "\n",
    "# Medir el tiempo de inicio\n",
    "start_time = time.time()\n",
    "\n",
    "# Entrenar el modelo de XGBoost\n",
    "xgb_model = XGBClassifier(use_label_encoder=False, eval_metric='logloss', random_state=42)\n",
    "xgb_model.fit(X_train, y_train)\n",
    "\n",
    "# Hacer predicciones en el conjunto de prueba\n",
    "y_pred = xgb_model.predict(X_test)\n",
    "\n",
    "# Evaluar el rendimiento del modelo\n",
    "print(\"Matriz de confusión:\")\n",
    "print(confusion_matrix(y_test, y_pred))\n",
    "\n",
    "print(\"\\nReporte de clasificación:\")\n",
    "print(classification_report(y_test, y_pred))\n",
    "\n",
    "# Calcular el AUC\n",
    "roc_auc = roc_auc_score(y_test, xgb_model.predict_proba(X_test)[:, 1])\n",
    "print(f\"ROC AUC: {roc_auc:.2f}\")\n",
    "\n",
    "# Medir el tiempo de finalización y calcular el tiempo transcurrido\n",
    "end_time = time.time()\n",
    "elapsed_time = end_time - start_time\n",
    "\n",
    "# Convertir a minutos y segundos\n",
    "minutes = elapsed_time // 60\n",
    "seconds = elapsed_time % 60\n",
    "\n",
    "print(f\"El tiempo total de ejecución fue de {int(minutes)} minutos y {seconds:.2f} segundos.\")"
   ]
  },
  {
   "cell_type": "markdown",
   "metadata": {},
   "source": [
    "### Datos balanceados con SMOTE"
   ]
  },
  {
   "cell_type": "code",
   "execution_count": 11,
   "metadata": {},
   "outputs": [
    {
     "name": "stderr",
     "output_type": "stream",
     "text": [
      "C:\\Users\\hrqui\\AppData\\Roaming\\Python\\Python310\\site-packages\\xgboost\\core.py:158: UserWarning: [10:19:31] WARNING: C:\\buildkite-agent\\builds\\buildkite-windows-cpu-autoscaling-group-i-0015a694724fa8361-1\\xgboost\\xgboost-ci-windows\\src\\learner.cc:740: \n",
      "Parameters: { \"use_label_encoder\" } are not used.\n",
      "\n",
      "  warnings.warn(smsg, UserWarning)\n"
     ]
    },
    {
     "name": "stdout",
     "output_type": "stream",
     "text": [
      "Matriz de confusión:\n",
      "[[860597 260362]\n",
      " [108501 701287]]\n",
      "\n",
      "Reporte de clasificación:\n",
      "              precision    recall  f1-score   support\n",
      "\n",
      "           0       0.89      0.77      0.82   1120959\n",
      "           1       0.73      0.87      0.79    809788\n",
      "\n",
      "    accuracy                           0.81   1930747\n",
      "   macro avg       0.81      0.82      0.81   1930747\n",
      "weighted avg       0.82      0.81      0.81   1930747\n",
      "\n",
      "ROC AUC: 0.91\n",
      "El tiempo total de ejecución fue de 0 minutos y 26.45 segundos.\n"
     ]
    }
   ],
   "source": [
    "from xgboost import XGBClassifier\n",
    "import time  # Importamos la librería para medir el tiempo\n",
    "\n",
    "# Medir el tiempo de inicio\n",
    "start_time = time.time()\n",
    "\n",
    "# Entrenar el modelo de XGBoost\n",
    "xgb_model = XGBClassifier(use_label_encoder=False, eval_metric='logloss', random_state=42)\n",
    "xgb_model.fit(X_train_smote, y_train_smote)\n",
    "\n",
    "# Hacer predicciones en el conjunto de prueba\n",
    "y_pred = xgb_model.predict(X_test)\n",
    "\n",
    "# Evaluar el rendimiento del modelo\n",
    "print(\"Matriz de confusión:\")\n",
    "print(confusion_matrix(y_test, y_pred))\n",
    "\n",
    "print(\"\\nReporte de clasificación:\")\n",
    "print(classification_report(y_test, y_pred))\n",
    "\n",
    "# Calcular el AUC\n",
    "roc_auc = roc_auc_score(y_test, xgb_model.predict_proba(X_test)[:, 1])\n",
    "print(f\"ROC AUC: {roc_auc:.2f}\")\n",
    "\n",
    "# Medir el tiempo de finalización y calcular el tiempo transcurrido\n",
    "end_time = time.time()\n",
    "elapsed_time = end_time - start_time\n",
    "\n",
    "# Convertir a minutos y segundos\n",
    "minutes = elapsed_time // 60\n",
    "seconds = elapsed_time % 60\n",
    "\n",
    "print(f\"El tiempo total de ejecución fue de {int(minutes)} minutos y {seconds:.2f} segundos.\")"
   ]
  },
  {
   "cell_type": "markdown",
   "metadata": {},
   "source": [
    "### Datos balanceados con ADASYN"
   ]
  },
  {
   "cell_type": "code",
   "execution_count": 12,
   "metadata": {},
   "outputs": [
    {
     "name": "stderr",
     "output_type": "stream",
     "text": [
      "C:\\Users\\hrqui\\AppData\\Roaming\\Python\\Python310\\site-packages\\xgboost\\core.py:158: UserWarning: [10:19:58] WARNING: C:\\buildkite-agent\\builds\\buildkite-windows-cpu-autoscaling-group-i-0015a694724fa8361-1\\xgboost\\xgboost-ci-windows\\src\\learner.cc:740: \n",
      "Parameters: { \"use_label_encoder\" } are not used.\n",
      "\n",
      "  warnings.warn(smsg, UserWarning)\n"
     ]
    },
    {
     "name": "stdout",
     "output_type": "stream",
     "text": [
      "Matriz de confusión:\n",
      "[[859567 261392]\n",
      " [106494 703294]]\n",
      "\n",
      "Reporte de clasificación:\n",
      "              precision    recall  f1-score   support\n",
      "\n",
      "           0       0.89      0.77      0.82   1120959\n",
      "           1       0.73      0.87      0.79    809788\n",
      "\n",
      "    accuracy                           0.81   1930747\n",
      "   macro avg       0.81      0.82      0.81   1930747\n",
      "weighted avg       0.82      0.81      0.81   1930747\n",
      "\n",
      "ROC AUC: 0.91\n",
      "El tiempo total de ejecución fue de 0 minutos y 25.34 segundos.\n"
     ]
    }
   ],
   "source": [
    "from xgboost import XGBClassifier\n",
    "import time  # Importamos la librería para medir el tiempo\n",
    "\n",
    "# Medir el tiempo de inicio\n",
    "start_time = time.time()\n",
    "\n",
    "# Entrenar el modelo de XGBoost\n",
    "xgb_model = XGBClassifier(use_label_encoder=False, eval_metric='logloss', random_state=42)\n",
    "xgb_model.fit(X_train_adasyn, y_train_adasyn)\n",
    "\n",
    "# Hacer predicciones en el conjunto de prueba\n",
    "y_pred = xgb_model.predict(X_test)\n",
    "\n",
    "# Evaluar el rendimiento del modelo\n",
    "print(\"Matriz de confusión:\")\n",
    "print(confusion_matrix(y_test, y_pred))\n",
    "\n",
    "print(\"\\nReporte de clasificación:\")\n",
    "print(classification_report(y_test, y_pred))\n",
    "\n",
    "# Calcular el AUC\n",
    "roc_auc = roc_auc_score(y_test, xgb_model.predict_proba(X_test)[:, 1])\n",
    "print(f\"ROC AUC: {roc_auc:.2f}\")\n",
    "\n",
    "# Medir el tiempo de finalización y calcular el tiempo transcurrido\n",
    "end_time = time.time()\n",
    "elapsed_time = end_time - start_time\n",
    "\n",
    "# Convertir a minutos y segundos\n",
    "minutes = elapsed_time // 60\n",
    "seconds = elapsed_time % 60\n",
    "\n",
    "print(f\"El tiempo total de ejecución fue de {int(minutes)} minutos y {seconds:.2f} segundos.\")"
   ]
  },
  {
   "cell_type": "markdown",
   "metadata": {},
   "source": [
    "### Datos balanceados con TOMEK LINK"
   ]
  },
  {
   "cell_type": "code",
   "execution_count": 13,
   "metadata": {},
   "outputs": [
    {
     "name": "stderr",
     "output_type": "stream",
     "text": [
      "C:\\Users\\hrqui\\AppData\\Roaming\\Python\\Python310\\site-packages\\xgboost\\core.py:158: UserWarning: [10:20:23] WARNING: C:\\buildkite-agent\\builds\\buildkite-windows-cpu-autoscaling-group-i-0015a694724fa8361-1\\xgboost\\xgboost-ci-windows\\src\\learner.cc:740: \n",
      "Parameters: { \"use_label_encoder\" } are not used.\n",
      "\n",
      "  warnings.warn(smsg, UserWarning)\n"
     ]
    },
    {
     "name": "stdout",
     "output_type": "stream",
     "text": [
      "Matriz de confusión:\n",
      "[[798766 322193]\n",
      " [ 56881 752907]]\n",
      "\n",
      "Reporte de clasificación:\n",
      "              precision    recall  f1-score   support\n",
      "\n",
      "           0       0.93      0.71      0.81   1120959\n",
      "           1       0.70      0.93      0.80    809788\n",
      "\n",
      "    accuracy                           0.80   1930747\n",
      "   macro avg       0.82      0.82      0.80   1930747\n",
      "weighted avg       0.84      0.80      0.80   1930747\n",
      "\n",
      "ROC AUC: 0.91\n",
      "El tiempo total de ejecución fue de 0 minutos y 21.80 segundos.\n"
     ]
    }
   ],
   "source": [
    "from xgboost import XGBClassifier\n",
    "import time  # Importamos la librería para medir el tiempo\n",
    "\n",
    "# Medir el tiempo de inicio\n",
    "start_time = time.time()\n",
    "\n",
    "# Entrenar el modelo de XGBoost\n",
    "xgb_model = XGBClassifier(use_label_encoder=False, eval_metric='logloss', random_state=42)\n",
    "xgb_model.fit(X_train_tomek, y_train_tomek)\n",
    "\n",
    "# Hacer predicciones en el conjunto de prueba\n",
    "y_pred = xgb_model.predict(X_test)\n",
    "\n",
    "# Evaluar el rendimiento del modelo\n",
    "print(\"Matriz de confusión:\")\n",
    "print(confusion_matrix(y_test, y_pred))\n",
    "\n",
    "print(\"\\nReporte de clasificación:\")\n",
    "print(classification_report(y_test, y_pred))\n",
    "\n",
    "# Calcular el AUC\n",
    "roc_auc = roc_auc_score(y_test, xgb_model.predict_proba(X_test)[:, 1])\n",
    "print(f\"ROC AUC: {roc_auc:.2f}\")\n",
    "\n",
    "# Medir el tiempo de finalización y calcular el tiempo transcurrido\n",
    "end_time = time.time()\n",
    "elapsed_time = end_time - start_time\n",
    "\n",
    "# Convertir a minutos y segundos\n",
    "minutes = elapsed_time // 60\n",
    "seconds = elapsed_time % 60\n",
    "\n",
    "print(f\"El tiempo total de ejecución fue de {int(minutes)} minutos y {seconds:.2f} segundos.\")"
   ]
  },
  {
   "cell_type": "markdown",
   "metadata": {},
   "source": [
    "# LightGBM\n",
    "\n",
    "### Datos no Balanceados"
   ]
  },
  {
   "cell_type": "code",
   "execution_count": 14,
   "metadata": {},
   "outputs": [
    {
     "name": "stderr",
     "output_type": "stream",
     "text": [
      "C:\\Users\\hrqui\\AppData\\Roaming\\Python\\Python310\\site-packages\\sklearn\\preprocessing\\_label.py:97: DataConversionWarning: A column-vector y was passed when a 1d array was expected. Please change the shape of y to (n_samples, ), for example using ravel().\n",
      "  y = column_or_1d(y, warn=True)\n",
      "C:\\Users\\hrqui\\AppData\\Roaming\\Python\\Python310\\site-packages\\sklearn\\preprocessing\\_label.py:132: DataConversionWarning: A column-vector y was passed when a 1d array was expected. Please change the shape of y to (n_samples, ), for example using ravel().\n",
      "  y = column_or_1d(y, dtype=self.classes_.dtype, warn=True)\n"
     ]
    },
    {
     "name": "stdout",
     "output_type": "stream",
     "text": [
      "[LightGBM] [Info] Number of positive: 1889506, number of negative: 2615570\n",
      "[LightGBM] [Info] Auto-choosing row-wise multi-threading, the overhead of testing was 0.075916 seconds.\n",
      "You can set `force_row_wise=true` to remove the overhead.\n",
      "And if memory is not enough, you can set `force_col_wise=true`.\n",
      "[LightGBM] [Info] Total Bins 2928\n",
      "[LightGBM] [Info] Number of data points in the train set: 4505076, number of used features: 18\n",
      "[LightGBM] [Info] [binary:BoostFromScore]: pavg=0.419417 -> initscore=-0.325167\n",
      "[LightGBM] [Info] Start training from score -0.325167\n",
      "Matriz de confusión:\n",
      "[[875924 245035]\n",
      " [131030 678758]]\n",
      "\n",
      "Reporte de clasificación:\n",
      "              precision    recall  f1-score   support\n",
      "\n",
      "           0       0.87      0.78      0.82   1120959\n",
      "           1       0.73      0.84      0.78    809788\n",
      "\n",
      "    accuracy                           0.81   1930747\n",
      "   macro avg       0.80      0.81      0.80   1930747\n",
      "weighted avg       0.81      0.81      0.81   1930747\n",
      "\n",
      "ROC AUC: 0.91\n",
      "El tiempo total de ejecución fue de 0 minutos y 22.55 segundos.\n"
     ]
    }
   ],
   "source": [
    "from lightgbm import LGBMClassifier\n",
    "import time  # Importamos la librería para medir el tiempo\n",
    "\n",
    "# Medir el tiempo de inicio\n",
    "start_time = time.time()\n",
    "\n",
    "# Entrenar el modelo de LightGBM\n",
    "lgb_model = LGBMClassifier(random_state=42)\n",
    "lgb_model.fit(X_train, y_train)\n",
    "\n",
    "# Hacer predicciones en el conjunto de prueba\n",
    "y_pred = lgb_model.predict(X_test)\n",
    "\n",
    "# Evaluar el rendimiento del modelo\n",
    "print(\"Matriz de confusión:\")\n",
    "print(confusion_matrix(y_test, y_pred))\n",
    "\n",
    "print(\"\\nReporte de clasificación:\")\n",
    "print(classification_report(y_test, y_pred))\n",
    "\n",
    "# Calcular el AUC\n",
    "roc_auc = roc_auc_score(y_test, lgb_model.predict_proba(X_test)[:, 1])\n",
    "print(f\"ROC AUC: {roc_auc:.2f}\")\n",
    "\n",
    "\n",
    "# Medir el tiempo de finalización y calcular el tiempo transcurrido\n",
    "end_time = time.time()\n",
    "elapsed_time = end_time - start_time\n",
    "\n",
    "# Convertir a minutos y segundos\n",
    "minutes = elapsed_time // 60\n",
    "seconds = elapsed_time % 60\n",
    "\n",
    "print(f\"El tiempo total de ejecución fue de {int(minutes)} minutos y {seconds:.2f} segundos.\")"
   ]
  },
  {
   "cell_type": "markdown",
   "metadata": {},
   "source": [
    "### Datos balanceados con SMOTE"
   ]
  },
  {
   "cell_type": "code",
   "execution_count": 15,
   "metadata": {},
   "outputs": [
    {
     "name": "stderr",
     "output_type": "stream",
     "text": [
      "C:\\Users\\hrqui\\AppData\\Roaming\\Python\\Python310\\site-packages\\sklearn\\preprocessing\\_label.py:97: DataConversionWarning: A column-vector y was passed when a 1d array was expected. Please change the shape of y to (n_samples, ), for example using ravel().\n",
      "  y = column_or_1d(y, warn=True)\n",
      "C:\\Users\\hrqui\\AppData\\Roaming\\Python\\Python310\\site-packages\\sklearn\\preprocessing\\_label.py:132: DataConversionWarning: A column-vector y was passed when a 1d array was expected. Please change the shape of y to (n_samples, ), for example using ravel().\n",
      "  y = column_or_1d(y, dtype=self.classes_.dtype, warn=True)\n"
     ]
    },
    {
     "name": "stdout",
     "output_type": "stream",
     "text": [
      "[LightGBM] [Info] Number of positive: 2615570, number of negative: 2615570\n",
      "[LightGBM] [Info] Auto-choosing row-wise multi-threading, the overhead of testing was 0.095367 seconds.\n",
      "You can set `force_row_wise=true` to remove the overhead.\n",
      "And if memory is not enough, you can set `force_col_wise=true`.\n",
      "[LightGBM] [Info] Total Bins 3757\n",
      "[LightGBM] [Info] Number of data points in the train set: 5231140, number of used features: 18\n",
      "[LightGBM] [Info] [binary:BoostFromScore]: pavg=0.500000 -> initscore=0.000000\n",
      "Matriz de confusión:\n",
      "[[839954 281005]\n",
      " [ 98755 711033]]\n",
      "\n",
      "Reporte de clasificación:\n",
      "              precision    recall  f1-score   support\n",
      "\n",
      "           0       0.89      0.75      0.82   1120959\n",
      "           1       0.72      0.88      0.79    809788\n",
      "\n",
      "    accuracy                           0.80   1930747\n",
      "   macro avg       0.81      0.81      0.80   1930747\n",
      "weighted avg       0.82      0.80      0.80   1930747\n",
      "\n",
      "ROC AUC: 0.91\n",
      "El tiempo total de ejecución fue de 0 minutos y 26.92 segundos.\n"
     ]
    }
   ],
   "source": [
    "from lightgbm import LGBMClassifier\n",
    "import time  # Importamos la librería para medir el tiempo\n",
    "\n",
    "# Medir el tiempo de inicio\n",
    "start_time = time.time()\n",
    "\n",
    "# Entrenar el modelo de LightGBM\n",
    "lgb_model = LGBMClassifier(random_state=42)\n",
    "lgb_model.fit(X_train_smote, y_train_smote)\n",
    "\n",
    "# Hacer predicciones en el conjunto de prueba\n",
    "y_pred = lgb_model.predict(X_test)\n",
    "\n",
    "# Evaluar el rendimiento del modelo\n",
    "print(\"Matriz de confusión:\")\n",
    "print(confusion_matrix(y_test, y_pred))\n",
    "\n",
    "print(\"\\nReporte de clasificación:\")\n",
    "print(classification_report(y_test, y_pred))\n",
    "\n",
    "# Calcular el AUC\n",
    "roc_auc = roc_auc_score(y_test, lgb_model.predict_proba(X_test)[:, 1])\n",
    "print(f\"ROC AUC: {roc_auc:.2f}\")\n",
    "\n",
    "\n",
    "# Medir el tiempo de finalización y calcular el tiempo transcurrido\n",
    "end_time = time.time()\n",
    "elapsed_time = end_time - start_time\n",
    "\n",
    "# Convertir a minutos y segundos\n",
    "minutes = elapsed_time // 60\n",
    "seconds = elapsed_time % 60\n",
    "\n",
    "print(f\"El tiempo total de ejecución fue de {int(minutes)} minutos y {seconds:.2f} segundos.\")"
   ]
  },
  {
   "cell_type": "markdown",
   "metadata": {},
   "source": [
    "### Datos balanceados con ADASYN"
   ]
  },
  {
   "cell_type": "code",
   "execution_count": 16,
   "metadata": {},
   "outputs": [
    {
     "name": "stderr",
     "output_type": "stream",
     "text": [
      "C:\\Users\\hrqui\\AppData\\Roaming\\Python\\Python310\\site-packages\\sklearn\\preprocessing\\_label.py:97: DataConversionWarning: A column-vector y was passed when a 1d array was expected. Please change the shape of y to (n_samples, ), for example using ravel().\n",
      "  y = column_or_1d(y, warn=True)\n",
      "C:\\Users\\hrqui\\AppData\\Roaming\\Python\\Python310\\site-packages\\sklearn\\preprocessing\\_label.py:132: DataConversionWarning: A column-vector y was passed when a 1d array was expected. Please change the shape of y to (n_samples, ), for example using ravel().\n",
      "  y = column_or_1d(y, dtype=self.classes_.dtype, warn=True)\n"
     ]
    },
    {
     "name": "stdout",
     "output_type": "stream",
     "text": [
      "[LightGBM] [Info] Number of positive: 2347005, number of negative: 2615570\n",
      "[LightGBM] [Info] Auto-choosing row-wise multi-threading, the overhead of testing was 0.111535 seconds.\n",
      "You can set `force_row_wise=true` to remove the overhead.\n",
      "And if memory is not enough, you can set `force_col_wise=true`.\n",
      "[LightGBM] [Info] Total Bins 3741\n",
      "[LightGBM] [Info] Number of data points in the train set: 4962575, number of used features: 18\n",
      "[LightGBM] [Info] [binary:BoostFromScore]: pavg=0.472941 -> initscore=-0.108342\n",
      "[LightGBM] [Info] Start training from score -0.108342\n",
      "Matriz de confusión:\n",
      "[[837222 283737]\n",
      " [ 95731 714057]]\n",
      "\n",
      "Reporte de clasificación:\n",
      "              precision    recall  f1-score   support\n",
      "\n",
      "           0       0.90      0.75      0.82   1120959\n",
      "           1       0.72      0.88      0.79    809788\n",
      "\n",
      "    accuracy                           0.80   1930747\n",
      "   macro avg       0.81      0.81      0.80   1930747\n",
      "weighted avg       0.82      0.80      0.80   1930747\n",
      "\n",
      "ROC AUC: 0.91\n",
      "El tiempo total de ejecución fue de 0 minutos y 24.23 segundos.\n"
     ]
    }
   ],
   "source": [
    "from lightgbm import LGBMClassifier\n",
    "import time  # Importamos la librería para medir el tiempo\n",
    "\n",
    "# Medir el tiempo de inicio\n",
    "start_time = time.time()\n",
    "\n",
    "# Entrenar el modelo de LightGBM\n",
    "lgb_model = LGBMClassifier(random_state=42)\n",
    "lgb_model.fit(X_train_adasyn, y_train_adasyn)\n",
    "\n",
    "# Hacer predicciones en el conjunto de prueba\n",
    "y_pred = lgb_model.predict(X_test)\n",
    "\n",
    "# Evaluar el rendimiento del modelo\n",
    "print(\"Matriz de confusión:\")\n",
    "print(confusion_matrix(y_test, y_pred))\n",
    "\n",
    "print(\"\\nReporte de clasificación:\")\n",
    "print(classification_report(y_test, y_pred))\n",
    "\n",
    "# Calcular el AUC\n",
    "roc_auc = roc_auc_score(y_test, lgb_model.predict_proba(X_test)[:, 1])\n",
    "print(f\"ROC AUC: {roc_auc:.2f}\")\n",
    "\n",
    "\n",
    "# Medir el tiempo de finalización y calcular el tiempo transcurrido\n",
    "end_time = time.time()\n",
    "elapsed_time = end_time - start_time\n",
    "\n",
    "# Convertir a minutos y segundos\n",
    "minutes = elapsed_time // 60\n",
    "seconds = elapsed_time % 60\n",
    "\n",
    "print(f\"El tiempo total de ejecución fue de {int(minutes)} minutos y {seconds:.2f} segundos.\")"
   ]
  },
  {
   "cell_type": "markdown",
   "metadata": {},
   "source": [
    "### Datos balanceados con TOMEK LINK"
   ]
  },
  {
   "cell_type": "code",
   "execution_count": 17,
   "metadata": {},
   "outputs": [
    {
     "name": "stderr",
     "output_type": "stream",
     "text": [
      "C:\\Users\\hrqui\\AppData\\Roaming\\Python\\Python310\\site-packages\\sklearn\\preprocessing\\_label.py:97: DataConversionWarning: A column-vector y was passed when a 1d array was expected. Please change the shape of y to (n_samples, ), for example using ravel().\n",
      "  y = column_or_1d(y, warn=True)\n",
      "C:\\Users\\hrqui\\AppData\\Roaming\\Python\\Python310\\site-packages\\sklearn\\preprocessing\\_label.py:132: DataConversionWarning: A column-vector y was passed when a 1d array was expected. Please change the shape of y to (n_samples, ), for example using ravel().\n",
      "  y = column_or_1d(y, dtype=self.classes_.dtype, warn=True)\n"
     ]
    },
    {
     "name": "stdout",
     "output_type": "stream",
     "text": [
      "[LightGBM] [Info] Number of positive: 1889506, number of negative: 2298168\n",
      "[LightGBM] [Info] Auto-choosing row-wise multi-threading, the overhead of testing was 0.078009 seconds.\n",
      "You can set `force_row_wise=true` to remove the overhead.\n",
      "And if memory is not enough, you can set `force_col_wise=true`.\n",
      "[LightGBM] [Info] Total Bins 2876\n",
      "[LightGBM] [Info] Number of data points in the train set: 4187674, number of used features: 18\n",
      "[LightGBM] [Info] [binary:BoostFromScore]: pavg=0.451207 -> initscore=-0.195797\n",
      "[LightGBM] [Info] Start training from score -0.195797\n",
      "Matriz de confusión:\n",
      "[[778505 342454]\n",
      " [ 49986 759802]]\n",
      "\n",
      "Reporte de clasificación:\n",
      "              precision    recall  f1-score   support\n",
      "\n",
      "           0       0.94      0.69      0.80   1120959\n",
      "           1       0.69      0.94      0.79    809788\n",
      "\n",
      "    accuracy                           0.80   1930747\n",
      "   macro avg       0.81      0.82      0.80   1930747\n",
      "weighted avg       0.83      0.80      0.80   1930747\n",
      "\n",
      "ROC AUC: 0.91\n",
      "El tiempo total de ejecución fue de 0 minutos y 21.14 segundos.\n"
     ]
    }
   ],
   "source": [
    "from lightgbm import LGBMClassifier\n",
    "import time  # Importamos la librería para medir el tiempo\n",
    "\n",
    "# Medir el tiempo de inicio\n",
    "start_time = time.time()\n",
    "\n",
    "# Entrenar el modelo de LightGBM\n",
    "lgb_model = LGBMClassifier(random_state=42)\n",
    "lgb_model.fit(X_train_tomek, y_train_tomek)\n",
    "\n",
    "# Hacer predicciones en el conjunto de prueba\n",
    "y_pred = lgb_model.predict(X_test)\n",
    "\n",
    "# Evaluar el rendimiento del modelo\n",
    "print(\"Matriz de confusión:\")\n",
    "print(confusion_matrix(y_test, y_pred))\n",
    "\n",
    "print(\"\\nReporte de clasificación:\")\n",
    "print(classification_report(y_test, y_pred))\n",
    "\n",
    "# Calcular el AUC\n",
    "roc_auc = roc_auc_score(y_test, lgb_model.predict_proba(X_test)[:, 1])\n",
    "print(f\"ROC AUC: {roc_auc:.2f}\")\n",
    "\n",
    "\n",
    "# Medir el tiempo de finalización y calcular el tiempo transcurrido\n",
    "end_time = time.time()\n",
    "elapsed_time = end_time - start_time\n",
    "\n",
    "# Convertir a minutos y segundos\n",
    "minutes = elapsed_time // 60\n",
    "seconds = elapsed_time % 60\n",
    "\n",
    "print(f\"El tiempo total de ejecución fue de {int(minutes)} minutos y {seconds:.2f} segundos.\")"
   ]
  }
 ],
 "metadata": {
  "kernelspec": {
   "display_name": "Python 3",
   "language": "python",
   "name": "python3"
  },
  "language_info": {
   "codemirror_mode": {
    "name": "ipython",
    "version": 3
   },
   "file_extension": ".py",
   "mimetype": "text/x-python",
   "name": "python",
   "nbconvert_exporter": "python",
   "pygments_lexer": "ipython3",
   "version": "3.10.2"
  }
 },
 "nbformat": 4,
 "nbformat_minor": 2
}
