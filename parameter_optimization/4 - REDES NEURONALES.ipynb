{
 "cells": [
  {
   "cell_type": "markdown",
   "metadata": {},
   "source": [
    "## Optimización de parámetros con Redes Neuronales"
   ]
  },
  {
   "cell_type": "code",
   "execution_count": null,
   "metadata": {
    "tags": []
   },
   "outputs": [
    {
     "data": {
      "text/plain": [
       "(6435823, 19)"
      ]
     },
     "execution_count": 1,
     "metadata": {},
     "output_type": "execute_result"
    }
   ],
   "source": [
    "import pandas as pd\n",
    "\n",
    "dataset_work_3 = pd.read_csv('D:\\DataSet\\dataset_work_transformed.csv')\n",
    "x = dataset_work_3.iloc[:,:-1]\n",
    "y = dataset_work_3.iloc[:,-1].values\n",
    "dataset_work_3.shape"
   ]
  },
  {
   "cell_type": "code",
   "execution_count": null,
   "metadata": {
    "tags": []
   },
   "outputs": [
    {
     "name": "stdout",
     "output_type": "stream",
     "text": [
      "Espacio de búsqueda reducido para los hiperparámetros\n",
      "Inicializar el clasificador y RandomizedSearchCV\n",
      "Fitting 2 folds for each of 5 candidates, totalling 10 fits\n",
      "[CV] END activation=tanh, alpha=0.001, early_stopping=True, hidden_layer_sizes=(100,), learning_rate=constant, max_iter=100, n_iter_no_change=5, solver=adam; total time=20.2min\n",
      "[CV] END activation=tanh, alpha=0.001, early_stopping=True, hidden_layer_sizes=(100,), learning_rate=constant, max_iter=100, n_iter_no_change=5, solver=adam; total time=10.9min\n",
      "[CV] END activation=tanh, alpha=0.001, early_stopping=True, hidden_layer_sizes=(50,), learning_rate=constant, max_iter=100, n_iter_no_change=5, solver=adam; total time=14.1min\n",
      "[CV] END activation=tanh, alpha=0.001, early_stopping=True, hidden_layer_sizes=(50,), learning_rate=constant, max_iter=100, n_iter_no_change=5, solver=adam; total time=10.4min\n",
      "[CV] END activation=relu, alpha=0.0001, early_stopping=True, hidden_layer_sizes=(50,), learning_rate=constant, max_iter=100, n_iter_no_change=5, solver=adam; total time= 4.4min\n",
      "[CV] END activation=relu, alpha=0.0001, early_stopping=True, hidden_layer_sizes=(50,), learning_rate=constant, max_iter=100, n_iter_no_change=5, solver=adam; total time=11.3min\n",
      "[CV] END activation=tanh, alpha=0.0001, early_stopping=True, hidden_layer_sizes=(50, 50), learning_rate=constant, max_iter=100, n_iter_no_change=5, solver=adam; total time=23.4min\n",
      "[CV] END activation=tanh, alpha=0.0001, early_stopping=True, hidden_layer_sizes=(50, 50), learning_rate=constant, max_iter=100, n_iter_no_change=5, solver=adam; total time=28.4min\n",
      "[CV] END activation=relu, alpha=0.001, early_stopping=True, hidden_layer_sizes=(50, 50), learning_rate=constant, max_iter=100, n_iter_no_change=5, solver=adam; total time=12.0min\n",
      "[CV] END activation=relu, alpha=0.001, early_stopping=True, hidden_layer_sizes=(50, 50), learning_rate=constant, max_iter=100, n_iter_no_change=5, solver=adam; total time=13.5min\n",
      "Mejores parámetros encontrados:\n",
      "{'solver': 'adam', 'n_iter_no_change': 5, 'max_iter': 100, 'learning_rate': 'constant', 'hidden_layer_sizes': (50, 50), 'early_stopping': True, 'alpha': 0.0001, 'activation': 'tanh'}\n",
      "\n",
      "Matriz de Confusión:\n",
      "[[876910 243929]\n",
      " [136245 673663]]\n",
      "\n",
      "Reporte de Clasificación:\n",
      "              precision    recall  f1-score   support\n",
      "\n",
      "           0       0.87      0.78      0.82   1120839\n",
      "           1       0.73      0.83      0.78    809908\n",
      "\n",
      "    accuracy                           0.80   1930747\n",
      "   macro avg       0.80      0.81      0.80   1930747\n",
      "weighted avg       0.81      0.80      0.80   1930747\n",
      "\n",
      "ROC AUC: 0.90\n",
      "El tiempo total de ejecución fue de 228 minutos y 9.94 segundos.\n"
     ]
    }
   ],
   "source": [
    "import numpy as np\n",
    "import time\n",
    "from sklearn.neural_network import MLPClassifier\n",
    "from sklearn.model_selection import train_test_split, RandomizedSearchCV\n",
    "from sklearn.metrics import classification_report, roc_auc_score, confusion_matrix\n",
    "from sklearn.preprocessing import StandardScaler\n",
    "\n",
    "# Registro del tiempo de inicio\n",
    "start_time = time.time()\n",
    "\n",
    "# 2. Separar las características (X) y la variable objetivo (y)\n",
    "X = dataset_work_3.drop(columns=[\"MOROSIDAD\"])\n",
    "y = dataset_work_3[\"MOROSIDAD\"]\n",
    "\n",
    "# 3. Escalado de características\n",
    "scaler = StandardScaler()\n",
    "X_scaled = scaler.fit_transform(X)\n",
    "\n",
    "# 4. División del conjunto de datos en entrenamiento y prueba (sin PCA)\n",
    "X_train, X_test, y_train, y_test = train_test_split(X_scaled, y, test_size=0.3, random_state=42)\n",
    "\n",
    "# 5. Espacio de búsqueda reducido para los hiperparámetros\n",
    "print(\"Espacio de búsqueda reducido para los hiperparámetros\")\n",
    "param_dist = {\n",
    "    'hidden_layer_sizes': [(50,), (100,), (50, 50)],\n",
    "    'activation': ['relu', 'tanh'],\n",
    "    'solver': ['adam'],\n",
    "    'alpha': [0.0001, 0.001],\n",
    "    'learning_rate': ['constant'],\n",
    "    'max_iter': [100],\n",
    "    'early_stopping': [True],\n",
    "    'n_iter_no_change': [5],  # Menor número de iteraciones sin mejora\n",
    "}\n",
    "\n",
    "# 6. Inicializar el clasificador y RandomizedSearchCV\n",
    "print(\"Inicializar el clasificador y RandomizedSearchCV\")\n",
    "mlp = MLPClassifier(random_state=42)\n",
    "random_search = RandomizedSearchCV(\n",
    "    estimator=mlp,\n",
    "    param_distributions=param_dist,\n",
    "    n_iter=5,  # Reducir el número de combinaciones\n",
    "    cv=2,  # Validación cruzada con 2 folds\n",
    "    n_jobs=1,  # Usar un solo núcleo para evitar problemas de memoria\n",
    "    verbose=2,\n",
    "    random_state=42,\n",
    "    scoring='roc_auc'\n",
    ")\n",
    "\n",
    "# 7. Ajustar el modelo con la muestra del dataset\n",
    "random_search.fit(X_train, y_train)\n",
    "\n",
    "# 8. Obtener los mejores parámetros\n",
    "print(\"Mejores parámetros encontrados:\")\n",
    "print(random_search.best_params_)\n",
    "\n",
    "# 9. Entrenar el modelo final con todos los datos utilizando los mejores parámetros\n",
    "best_params = random_search.best_params_\n",
    "best_model = MLPClassifier(**best_params, random_state=42)\n",
    "\n",
    "# Escalar el dataset completo (sin PCA)\n",
    "X_full = dataset_work_3.drop(columns=[\"MOROSIDAD\"])\n",
    "y_full = dataset_work_3[\"MOROSIDAD\"]\n",
    "X_full_scaled = scaler.transform(X_full)\n",
    "\n",
    "# División de los datos para el modelo final\n",
    "X_train_full, X_test_full, y_train_full, y_test_full = train_test_split(X_full_scaled, y_full, test_size=0.3, random_state=42)\n",
    "\n",
    "# Ajustar el modelo con el dataset completo\n",
    "best_model.fit(X_train_full, y_train_full)\n",
    "\n",
    "# Hacer predicciones y evaluar el modelo\n",
    "y_pred = best_model.predict(X_test_full)\n",
    "y_pred_proba = best_model.predict_proba(X_test_full)[:, 1]\n",
    "\n",
    "print(\"\\nMatriz de Confusión:\")\n",
    "print(confusion_matrix(y_test_full, y_pred))\n",
    "\n",
    "print(\"\\nReporte de Clasificación:\")\n",
    "print(classification_report(y_test_full, y_pred))\n",
    "\n",
    "roc_auc = roc_auc_score(y_test_full, y_pred_proba)\n",
    "print(f\"ROC AUC: {roc_auc:.2f}\")\n",
    "\n",
    "# Medir el tiempo de finalización y calcular el tiempo transcurrido\n",
    "end_time = time.time()\n",
    "elapsed_time = end_time - start_time\n",
    "\n",
    "# Convertir a minutos y segundos\n",
    "minutes = elapsed_time // 60\n",
    "seconds = elapsed_time % 60\n",
    "\n",
    "print(f\"El tiempo total de ejecución fue de {int(minutes)} minutos y {seconds:.2f} segundos.\")"
   ]
  }
 ],
 "metadata": {
  "kernelspec": {
   "display_name": "Python (Local)",
   "language": "python",
   "name": "base"
  },
  "language_info": {
   "codemirror_mode": {
    "name": "ipython",
    "version": 3
   },
   "file_extension": ".py",
   "mimetype": "text/x-python",
   "name": "python",
   "nbconvert_exporter": "python",
   "pygments_lexer": "ipython3",
   "version": "3.10.15"
  }
 },
 "nbformat": 4,
 "nbformat_minor": 4
}
