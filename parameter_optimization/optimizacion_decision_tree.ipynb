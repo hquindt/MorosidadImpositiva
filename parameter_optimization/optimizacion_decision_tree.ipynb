{
 "cells": [
  {
   "cell_type": "markdown",
   "metadata": {},
   "source": [
    "## Optimización de parámetros para Arboles de Decisión\n"
   ]
  },
  {
   "cell_type": "code",
   "execution_count": 3,
   "metadata": {},
   "outputs": [
    {
     "data": {
      "text/plain": [
       "(6435823, 16)"
      ]
     },
     "execution_count": 3,
     "metadata": {},
     "output_type": "execute_result"
    }
   ],
   "source": [
    "import pandas as pd\n",
    "\n",
    "dataset_work_3 = pd.read_csv('D:\\DataSet\\dataset_work_transformed.csv')\n",
    "x = dataset_work_3.iloc[:,:-1]\n",
    "y = dataset_work_3.iloc[:,-1].values\n",
    "dataset_work_3.shape"
   ]
  },
  {
   "cell_type": "code",
   "execution_count": 4,
   "metadata": {},
   "outputs": [
    {
     "name": "stdout",
     "output_type": "stream",
     "text": [
      "Fitting 2 folds for each of 10 candidates, totalling 20 fits\n"
     ]
    },
    {
     "name": "stderr",
     "output_type": "stream",
     "text": [
      "C:\\Users\\hrqui\\AppData\\Roaming\\Python\\Python310\\site-packages\\sklearn\\model_selection\\_validation.py:540: FitFailedWarning: \n",
      "4 fits failed out of a total of 20.\n",
      "The score on these train-test partitions for these parameters will be set to nan.\n",
      "If these failures are not expected, you can try to debug them by setting error_score='raise'.\n",
      "\n",
      "Below are more details about the failures:\n",
      "--------------------------------------------------------------------------------\n",
      "3 fits failed with the following error:\n",
      "Traceback (most recent call last):\n",
      "  File \"C:\\Users\\hrqui\\AppData\\Roaming\\Python\\Python310\\site-packages\\sklearn\\model_selection\\_validation.py\", line 888, in _fit_and_score\n",
      "    estimator.fit(X_train, y_train, **fit_params)\n",
      "  File \"C:\\Users\\hrqui\\AppData\\Roaming\\Python\\Python310\\site-packages\\sklearn\\base.py\", line 1466, in wrapper\n",
      "    estimator._validate_params()\n",
      "  File \"C:\\Users\\hrqui\\AppData\\Roaming\\Python\\Python310\\site-packages\\sklearn\\base.py\", line 666, in _validate_params\n",
      "    validate_parameter_constraints(\n",
      "  File \"C:\\Users\\hrqui\\AppData\\Roaming\\Python\\Python310\\site-packages\\sklearn\\utils\\_param_validation.py\", line 95, in validate_parameter_constraints\n",
      "    raise InvalidParameterError(\n",
      "sklearn.utils._param_validation.InvalidParameterError: The 'max_features' parameter of DecisionTreeClassifier must be an int in the range [1, inf), a float in the range (0.0, 1.0], a str among {'sqrt', 'log2'} or None. Got 'auto' instead.\n",
      "\n",
      "--------------------------------------------------------------------------------\n",
      "1 fits failed with the following error:\n",
      "Traceback (most recent call last):\n",
      "  File \"C:\\Users\\hrqui\\AppData\\Roaming\\Python\\Python310\\site-packages\\sklearn\\model_selection\\_validation.py\", line 888, in _fit_and_score\n",
      "    estimator.fit(X_train, y_train, **fit_params)\n",
      "  File \"C:\\Users\\hrqui\\AppData\\Roaming\\Python\\Python310\\site-packages\\sklearn\\base.py\", line 1466, in wrapper\n",
      "    estimator._validate_params()\n",
      "  File \"C:\\Users\\hrqui\\AppData\\Roaming\\Python\\Python310\\site-packages\\sklearn\\base.py\", line 666, in _validate_params\n",
      "    validate_parameter_constraints(\n",
      "  File \"C:\\Users\\hrqui\\AppData\\Roaming\\Python\\Python310\\site-packages\\sklearn\\utils\\_param_validation.py\", line 95, in validate_parameter_constraints\n",
      "    raise InvalidParameterError(\n",
      "sklearn.utils._param_validation.InvalidParameterError: The 'max_features' parameter of DecisionTreeClassifier must be an int in the range [1, inf), a float in the range (0.0, 1.0], a str among {'log2', 'sqrt'} or None. Got 'auto' instead.\n",
      "\n",
      "  warnings.warn(some_fits_failed_message, FitFailedWarning)\n",
      "C:\\Users\\hrqui\\AppData\\Roaming\\Python\\Python310\\site-packages\\sklearn\\model_selection\\_search.py:1103: UserWarning: One or more of the test scores are non-finite: [0.89630357 0.7882396  0.87508692 0.88530712 0.82292086        nan\n",
      "        nan 0.89678805 0.88316228 0.78572775]\n",
      "  warnings.warn(\n"
     ]
    },
    {
     "name": "stdout",
     "output_type": "stream",
     "text": [
      "Mejores parámetros encontrados:\n",
      "{'splitter': 'best', 'min_samples_split': 10, 'min_samples_leaf': 1, 'max_features': None, 'max_depth': 10, 'criterion': 'gini'}\n",
      "\n",
      "Matriz de Confusión:\n",
      "[[913275 207564]\n",
      " [191100 618808]]\n",
      "\n",
      "Reporte de Clasificación:\n",
      "              precision    recall  f1-score   support\n",
      "\n",
      "           0       0.83      0.81      0.82   1120839\n",
      "           1       0.75      0.76      0.76    809908\n",
      "\n",
      "    accuracy                           0.79   1930747\n",
      "   macro avg       0.79      0.79      0.79   1930747\n",
      "weighted avg       0.79      0.79      0.79   1930747\n",
      "\n",
      "ROC AUC: 0.8971\n",
      "El tiempo total de ejecución fue de 2 minutos y 35.57 segundos.\n"
     ]
    }
   ],
   "source": [
    "import pandas as pd\n",
    "import numpy as np\n",
    "import time\n",
    "from sklearn.tree import DecisionTreeClassifier\n",
    "from sklearn.model_selection import train_test_split, RandomizedSearchCV\n",
    "from sklearn.metrics import classification_report, roc_auc_score, confusion_matrix\n",
    "from sklearn.preprocessing import StandardScaler\n",
    "\n",
    "# Registro del tiempo de inicio\n",
    "start_time = time.time()\n",
    "\n",
    "# 2. Separar las características (X) y la variable objetivo (y)\n",
    "X = dataset_work_3.drop(columns=[\"MOROSIDAD\"])\n",
    "y = dataset_work_3[\"MOROSIDAD\"]\n",
    "\n",
    "# 3. Escalado de características\n",
    "scaler = StandardScaler()\n",
    "X_scaled = scaler.fit_transform(X)\n",
    "\n",
    "# 4. División del conjunto de datos en entrenamiento y prueba\n",
    "X_train, X_test, y_train, y_test = train_test_split(X_scaled, y, test_size=0.3, random_state=42)\n",
    "\n",
    "# 5. Espacio de búsqueda para los hiperparámetros\n",
    "param_dist = {\n",
    "    'criterion': ['gini', 'entropy', 'log_loss'],\n",
    "    'splitter': ['best', 'random'],\n",
    "    'max_depth': [None, 10, 20, 30, 50],\n",
    "    'min_samples_split': [2, 5, 10],\n",
    "    'min_samples_leaf': [1, 2, 4],\n",
    "    'max_features': ['auto', 'sqrt', 'log2', None]\n",
    "}\n",
    "\n",
    "# 6. Inicializar el clasificador y RandomizedSearchCV\n",
    "clf = DecisionTreeClassifier(random_state=42)\n",
    "random_search = RandomizedSearchCV(\n",
    "    estimator=clf,\n",
    "    param_distributions=param_dist,\n",
    "    n_iter=10,  # Reducido para acelerar la búsqueda\n",
    "    cv=2,  # Validación cruzada con 2 folds\n",
    "    n_jobs=-1,  # Usar múltiples núcleos\n",
    "    verbose=2,\n",
    "    random_state=42,\n",
    "    scoring='roc_auc'\n",
    ")\n",
    "\n",
    "# 7. Ajustar el modelo con la muestra del dataset\n",
    "random_search.fit(X_train, y_train)\n",
    "\n",
    "# 8. Obtener los mejores parámetros\n",
    "print(\"Mejores parámetros encontrados:\")\n",
    "print(random_search.best_params_)\n",
    "\n",
    "# 9. Entrenar el modelo final con todos los datos utilizando los mejores parámetros\n",
    "best_params = random_search.best_params_\n",
    "best_model = DecisionTreeClassifier(**best_params, random_state=42)\n",
    "\n",
    "# Ajustar el modelo con el dataset completo\n",
    "X_full = dataset_work_3.drop(columns=[\"MOROSIDAD\"])\n",
    "y_full = dataset_work_3[\"MOROSIDAD\"]\n",
    "X_full_scaled = scaler.transform(X_full)\n",
    "\n",
    "# División de los datos para el modelo final\n",
    "X_train_full, X_test_full, y_train_full, y_test_full = train_test_split(X_full_scaled, y_full, test_size=0.3, random_state=42)\n",
    "\n",
    "# Ajustar el modelo con el dataset completo\n",
    "best_model.fit(X_train_full, y_train_full)\n",
    "\n",
    "# Hacer predicciones y evaluar el modelo\n",
    "y_pred = best_model.predict(X_test_full)\n",
    "y_pred_proba = best_model.predict_proba(X_test_full)[:, 1]\n",
    "\n",
    "# Métricas de evaluación\n",
    "print(\"\\nMatriz de Confusión:\")\n",
    "print(confusion_matrix(y_test_full, y_pred))\n",
    "\n",
    "print(\"\\nReporte de Clasificación:\")\n",
    "print(classification_report(y_test_full, y_pred))\n",
    "\n",
    "roc_auc = roc_auc_score(y_test_full, y_pred_proba)\n",
    "print(f\"ROC AUC: {roc_auc:.4f}\")\n",
    "\n",
    "# Medir el tiempo de finalización y calcular el tiempo transcurrido\n",
    "end_time = time.time()\n",
    "elapsed_time = end_time - start_time\n",
    "\n",
    "# Convertir a minutos y segundos\n",
    "minutes = elapsed_time // 60\n",
    "seconds = elapsed_time % 60\n",
    "\n",
    "print(f\"El tiempo total de ejecución fue de {int(minutes)} minutos y {seconds:.2f} segundos.\")\n",
    "\n"
   ]
  },
  {
   "cell_type": "markdown",
   "metadata": {},
   "source": [
    "## **Matriz de Confusión con Mapa de Calor**"
   ]
  },
  {
   "cell_type": "code",
   "execution_count": 5,
   "metadata": {},
   "outputs": [
    {
     "data": {
      "image/png": "[encoded data removed]",
      "text/plain": [
       "<Figure size 800x600 with 1 Axes>"
      ]
     },
     "metadata": {},
     "output_type": "display_data"
    }
   ],
   "source": [
    "import seaborn as sns\n",
    "import matplotlib.pyplot as plt\n",
    "\n",
    "conf_matrix = confusion_matrix(y_test_full, y_pred)\n",
    "plt.figure(figsize=(8, 6))\n",
    "sns.heatmap(conf_matrix, annot=True, fmt='d', cmap='Blues', cbar=False,\n",
    "            xticklabels=['No Moroso', 'Moroso'], yticklabels=['No Moroso', 'Moroso'])\n",
    "plt.title(\"Matriz de Confusión\")\n",
    "plt.xlabel(\"Predicción\")\n",
    "plt.ylabel(\"Valor Verdadero\")\n",
    "plt.show()"
   ]
  },
  {
   "cell_type": "code",
   "execution_count": null,
   "metadata": {},
   "outputs": [],
   "source": []
  }
 ],
 "metadata": {
  "kernelspec": {
   "display_name": "Python 3",
   "language": "python",
   "name": "python3"
  },
  "language_info": {
   "codemirror_mode": {
    "name": "ipython",
    "version": 3
   },
   "file_extension": ".py",
   "mimetype": "text/x-python",
   "name": "python",
   "nbconvert_exporter": "python",
   "pygments_lexer": "ipython3",
   "version": "3.10.2"
  }
 },
 "nbformat": 4,
 "nbformat_minor": 4
}
